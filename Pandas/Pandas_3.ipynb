{
 "cells": [
  {
   "cell_type": "markdown",
   "metadata": {},
   "source": [
    "# Pandas III dalis"
   ]
  },
  {
   "cell_type": "code",
   "execution_count": 1,
   "metadata": {},
   "outputs": [],
   "source": [
    "import numpy as np\n",
    "import pandas as pd"
   ]
  },
  {
   "cell_type": "markdown",
   "metadata": {},
   "source": [
    "### Unikalios reikšmės"
   ]
  },
  {
   "cell_type": "code",
   "execution_count": 2,
   "metadata": {},
   "outputs": [],
   "source": [
    "top = pd.read_csv('/home/robotautas/PycharmProjects/kursas/Pandas/top50.csv', encoding='ISO-8859-1')"
   ]
  },
  {
   "cell_type": "code",
   "execution_count": 25,
   "metadata": {},
   "outputs": [
    {
     "data": {
      "text/html": [
       "<div>\n",
       "<style scoped>\n",
       "    .dataframe tbody tr th:only-of-type {\n",
       "        vertical-align: middle;\n",
       "    }\n",
       "\n",
       "    .dataframe tbody tr th {\n",
       "        vertical-align: top;\n",
       "    }\n",
       "\n",
       "    .dataframe thead th {\n",
       "        text-align: right;\n",
       "    }\n",
       "</style>\n",
       "<table border=\"1\" class=\"dataframe\">\n",
       "  <thead>\n",
       "    <tr style=\"text-align: right;\">\n",
       "      <th></th>\n",
       "      <th>Unnamed: 0</th>\n",
       "      <th>Track.Name</th>\n",
       "      <th>Artist.Name</th>\n",
       "      <th>Genre</th>\n",
       "      <th>Beats.Per.Minute</th>\n",
       "      <th>Energy</th>\n",
       "      <th>Danceability</th>\n",
       "      <th>Loudness..dB..</th>\n",
       "      <th>Liveness</th>\n",
       "      <th>Valence.</th>\n",
       "      <th>Length.</th>\n",
       "      <th>Acousticness..</th>\n",
       "      <th>Speechiness.</th>\n",
       "      <th>Popularity</th>\n",
       "      <th>Length.Pretty</th>\n",
       "    </tr>\n",
       "  </thead>\n",
       "  <tbody>\n",
       "    <tr>\n",
       "      <td>0</td>\n",
       "      <td>1</td>\n",
       "      <td>Señorita</td>\n",
       "      <td>Shawn Mendes</td>\n",
       "      <td>canadian pop</td>\n",
       "      <td>117</td>\n",
       "      <td>55</td>\n",
       "      <td>76</td>\n",
       "      <td>-6</td>\n",
       "      <td>8</td>\n",
       "      <td>75</td>\n",
       "      <td>191</td>\n",
       "      <td>4</td>\n",
       "      <td>3</td>\n",
       "      <td>79</td>\n",
       "      <td>3:11</td>\n",
       "    </tr>\n",
       "    <tr>\n",
       "      <td>1</td>\n",
       "      <td>2</td>\n",
       "      <td>China</td>\n",
       "      <td>Anuel AA</td>\n",
       "      <td>reggaeton flow</td>\n",
       "      <td>105</td>\n",
       "      <td>81</td>\n",
       "      <td>79</td>\n",
       "      <td>-4</td>\n",
       "      <td>8</td>\n",
       "      <td>61</td>\n",
       "      <td>302</td>\n",
       "      <td>8</td>\n",
       "      <td>9</td>\n",
       "      <td>92</td>\n",
       "      <td>5:02</td>\n",
       "    </tr>\n",
       "    <tr>\n",
       "      <td>2</td>\n",
       "      <td>3</td>\n",
       "      <td>boyfriend (with Social House)</td>\n",
       "      <td>Ariana Grande</td>\n",
       "      <td>dance pop</td>\n",
       "      <td>190</td>\n",
       "      <td>80</td>\n",
       "      <td>40</td>\n",
       "      <td>-4</td>\n",
       "      <td>16</td>\n",
       "      <td>70</td>\n",
       "      <td>186</td>\n",
       "      <td>12</td>\n",
       "      <td>46</td>\n",
       "      <td>85</td>\n",
       "      <td>3:06</td>\n",
       "    </tr>\n",
       "    <tr>\n",
       "      <td>3</td>\n",
       "      <td>4</td>\n",
       "      <td>Beautiful People (feat. Khalid)</td>\n",
       "      <td>Ed Sheeran</td>\n",
       "      <td>pop</td>\n",
       "      <td>93</td>\n",
       "      <td>65</td>\n",
       "      <td>64</td>\n",
       "      <td>-8</td>\n",
       "      <td>8</td>\n",
       "      <td>55</td>\n",
       "      <td>198</td>\n",
       "      <td>12</td>\n",
       "      <td>19</td>\n",
       "      <td>86</td>\n",
       "      <td>3:18</td>\n",
       "    </tr>\n",
       "    <tr>\n",
       "      <td>4</td>\n",
       "      <td>5</td>\n",
       "      <td>Goodbyes (Feat. Young Thug)</td>\n",
       "      <td>Post Malone</td>\n",
       "      <td>dfw rap</td>\n",
       "      <td>150</td>\n",
       "      <td>65</td>\n",
       "      <td>58</td>\n",
       "      <td>-4</td>\n",
       "      <td>11</td>\n",
       "      <td>18</td>\n",
       "      <td>175</td>\n",
       "      <td>45</td>\n",
       "      <td>7</td>\n",
       "      <td>94</td>\n",
       "      <td>2:55</td>\n",
       "    </tr>\n",
       "  </tbody>\n",
       "</table>\n",
       "</div>"
      ],
      "text/plain": [
       "   Unnamed: 0                       Track.Name    Artist.Name           Genre  \\\n",
       "0           1                         Señorita   Shawn Mendes    canadian pop   \n",
       "1           2                            China       Anuel AA  reggaeton flow   \n",
       "2           3    boyfriend (with Social House)  Ariana Grande       dance pop   \n",
       "3           4  Beautiful People (feat. Khalid)     Ed Sheeran             pop   \n",
       "4           5      Goodbyes (Feat. Young Thug)    Post Malone         dfw rap   \n",
       "\n",
       "   Beats.Per.Minute  Energy  Danceability  Loudness..dB..  Liveness  Valence.  \\\n",
       "0               117      55            76              -6         8        75   \n",
       "1               105      81            79              -4         8        61   \n",
       "2               190      80            40              -4        16        70   \n",
       "3                93      65            64              -8         8        55   \n",
       "4               150      65            58              -4        11        18   \n",
       "\n",
       "   Length.  Acousticness..  Speechiness.  Popularity Length.Pretty  \n",
       "0      191               4             3          79          3:11  \n",
       "1      302               8             9          92          5:02  \n",
       "2      186              12            46          85          3:06  \n",
       "3      198              12            19          86          3:18  \n",
       "4      175              45             7          94          2:55  "
      ]
     },
     "execution_count": 25,
     "metadata": {},
     "output_type": "execute_result"
    }
   ],
   "source": [
    "top.head()"
   ]
  },
  {
   "cell_type": "markdown",
   "metadata": {},
   "source": [
    "Nuskaitėme failą į DataFrame'ą 'top'. Šie duomenys - Spotify top 50 2019 dainų."
   ]
  },
  {
   "cell_type": "markdown",
   "metadata": {},
   "source": [
    "Pamėginkime išrinkti unikalias reikšmes iš stulpelio 'Genre':"
   ]
  },
  {
   "cell_type": "code",
   "execution_count": 4,
   "metadata": {},
   "outputs": [
    {
     "data": {
      "text/plain": [
       "array(['canadian pop', 'reggaeton flow', 'dance pop', 'pop', 'dfw rap',\n",
       "       'trap music', 'country rap', 'electropop', 'reggaeton',\n",
       "       'panamanian pop', 'canadian hip hop', 'latin', 'escape room',\n",
       "       'pop house', 'australian pop', 'edm', 'atl hip hop', 'big room',\n",
       "       'boy band', 'r&b en espanol', 'brostep'], dtype=object)"
      ]
     },
     "execution_count": 4,
     "metadata": {},
     "output_type": "execute_result"
    }
   ],
   "source": [
    "top['Genre'].unique()"
   ]
  },
  {
   "cell_type": "markdown",
   "metadata": {},
   "source": [
    "jeigu norime sužinoti, kiek jų yra, tiesiog naudojame *len* funkciją:"
   ]
  },
  {
   "cell_type": "code",
   "execution_count": 5,
   "metadata": {},
   "outputs": [
    {
     "data": {
      "text/plain": [
       "21"
      ]
     },
     "execution_count": 5,
     "metadata": {},
     "output_type": "execute_result"
    }
   ],
   "source": [
    "len(top['Genre'].unique())"
   ]
  },
  {
   "cell_type": "markdown",
   "metadata": {},
   "source": [
    "tą patį gausime, panaudoję pandas metodą **.nunique()**:"
   ]
  },
  {
   "cell_type": "code",
   "execution_count": 6,
   "metadata": {},
   "outputs": [
    {
     "data": {
      "text/plain": [
       "21"
      ]
     },
     "execution_count": 6,
     "metadata": {},
     "output_type": "execute_result"
    }
   ],
   "source": [
    "top['Genre'].nunique()"
   ]
  },
  {
   "cell_type": "markdown",
   "metadata": {},
   "source": [
    "galime panaudoti metodą **.value_counts()**:"
   ]
  },
  {
   "cell_type": "code",
   "execution_count": 7,
   "metadata": {},
   "outputs": [
    {
     "data": {
      "text/plain": [
       "dance pop           8\n",
       "pop                 7\n",
       "latin               5\n",
       "edm                 3\n",
       "canadian hip hop    3\n",
       "canadian pop        2\n",
       "dfw rap             2\n",
       "electropop          2\n",
       "panamanian pop      2\n",
       "country rap         2\n",
       "brostep             2\n",
       "reggaeton           2\n",
       "reggaeton flow      2\n",
       "boy band            1\n",
       "trap music          1\n",
       "escape room         1\n",
       "big room            1\n",
       "australian pop      1\n",
       "pop house           1\n",
       "r&b en espanol      1\n",
       "atl hip hop         1\n",
       "Name: Genre, dtype: int64"
      ]
     },
     "execution_count": 7,
     "metadata": {},
     "output_type": "execute_result"
    }
   ],
   "source": [
    "top['Genre'].value_counts()"
   ]
  },
  {
   "cell_type": "markdown",
   "metadata": {},
   "source": [
    "gavome sąrašą unikalių reikšmių, ir kiek jų yra lentelėje."
   ]
  },
  {
   "cell_type": "markdown",
   "metadata": {},
   "source": [
    "### .apply() metodas"
   ]
  },
  {
   "cell_type": "markdown",
   "metadata": {},
   "source": [
    "jei pamenate, su DF galime naudoti įvairias funkcijas, pvz.:"
   ]
  },
  {
   "cell_type": "code",
   "execution_count": 8,
   "metadata": {},
   "outputs": [
    {
     "data": {
      "text/plain": [
       "10048"
      ]
     },
     "execution_count": 8,
     "metadata": {},
     "output_type": "execute_result"
    }
   ],
   "source": [
    "top['Length.'].sum()"
   ]
  },
  {
   "cell_type": "markdown",
   "metadata": {},
   "source": [
    "su **.apply()** galime maudoti ir savo funkcijas. Parašykime funkciją, kuri iš duotų sekundžių skaičiaus išskirs minutes ir sekundes formatu mm:ss"
   ]
  },
  {
   "cell_type": "code",
   "execution_count": 9,
   "metadata": {},
   "outputs": [],
   "source": [
    "def minutes_seconds(s):\n",
    "    minutes = s // 60\n",
    "    seconds = s % 60\n",
    "    if len(str(seconds)) < 2:\n",
    "        return f'{minutes}:0{seconds}'\n",
    "    return f'{minutes}:{seconds}'"
   ]
  },
  {
   "cell_type": "code",
   "execution_count": 10,
   "metadata": {},
   "outputs": [
    {
     "data": {
      "text/plain": [
       "'1:50'"
      ]
     },
     "execution_count": 10,
     "metadata": {},
     "output_type": "execute_result"
    }
   ],
   "source": [
    "minutes_seconds(110)"
   ]
  },
  {
   "cell_type": "markdown",
   "metadata": {},
   "source": [
    "pritaikykime šią funkciją stulpeliui 'Length.':"
   ]
  },
  {
   "cell_type": "code",
   "execution_count": 17,
   "metadata": {},
   "outputs": [
    {
     "data": {
      "text/plain": [
       "0    3:11\n",
       "1    5:02\n",
       "2    3:06\n",
       "3    3:18\n",
       "4    2:55\n",
       "Name: Length., dtype: object"
      ]
     },
     "execution_count": 17,
     "metadata": {},
     "output_type": "execute_result"
    }
   ],
   "source": [
    "top['Length.'].apply(minutes_seconds).head()"
   ]
  },
  {
   "cell_type": "markdown",
   "metadata": {},
   "source": [
    "Gavome seriją. Galime jos pagrindu jos pagrindu pakoreguoti senąjį arba sukurti naują stulpelį, pvz.:"
   ]
  },
  {
   "cell_type": "code",
   "execution_count": 13,
   "metadata": {},
   "outputs": [],
   "source": [
    "top['Length.Pretty'] = top['Length.'].apply(minutes_seconds)"
   ]
  },
  {
   "cell_type": "code",
   "execution_count": 14,
   "metadata": {},
   "outputs": [
    {
     "data": {
      "text/html": [
       "<div>\n",
       "<style scoped>\n",
       "    .dataframe tbody tr th:only-of-type {\n",
       "        vertical-align: middle;\n",
       "    }\n",
       "\n",
       "    .dataframe tbody tr th {\n",
       "        vertical-align: top;\n",
       "    }\n",
       "\n",
       "    .dataframe thead th {\n",
       "        text-align: right;\n",
       "    }\n",
       "</style>\n",
       "<table border=\"1\" class=\"dataframe\">\n",
       "  <thead>\n",
       "    <tr style=\"text-align: right;\">\n",
       "      <th></th>\n",
       "      <th>Unnamed: 0</th>\n",
       "      <th>Track.Name</th>\n",
       "      <th>Artist.Name</th>\n",
       "      <th>Genre</th>\n",
       "      <th>Beats.Per.Minute</th>\n",
       "      <th>Energy</th>\n",
       "      <th>Danceability</th>\n",
       "      <th>Loudness..dB..</th>\n",
       "      <th>Liveness</th>\n",
       "      <th>Valence.</th>\n",
       "      <th>Length.</th>\n",
       "      <th>Acousticness..</th>\n",
       "      <th>Speechiness.</th>\n",
       "      <th>Popularity</th>\n",
       "      <th>Length.Pretty</th>\n",
       "    </tr>\n",
       "  </thead>\n",
       "  <tbody>\n",
       "    <tr>\n",
       "      <td>0</td>\n",
       "      <td>1</td>\n",
       "      <td>Señorita</td>\n",
       "      <td>Shawn Mendes</td>\n",
       "      <td>canadian pop</td>\n",
       "      <td>117</td>\n",
       "      <td>55</td>\n",
       "      <td>76</td>\n",
       "      <td>-6</td>\n",
       "      <td>8</td>\n",
       "      <td>75</td>\n",
       "      <td>191</td>\n",
       "      <td>4</td>\n",
       "      <td>3</td>\n",
       "      <td>79</td>\n",
       "      <td>3:11</td>\n",
       "    </tr>\n",
       "    <tr>\n",
       "      <td>1</td>\n",
       "      <td>2</td>\n",
       "      <td>China</td>\n",
       "      <td>Anuel AA</td>\n",
       "      <td>reggaeton flow</td>\n",
       "      <td>105</td>\n",
       "      <td>81</td>\n",
       "      <td>79</td>\n",
       "      <td>-4</td>\n",
       "      <td>8</td>\n",
       "      <td>61</td>\n",
       "      <td>302</td>\n",
       "      <td>8</td>\n",
       "      <td>9</td>\n",
       "      <td>92</td>\n",
       "      <td>5:02</td>\n",
       "    </tr>\n",
       "    <tr>\n",
       "      <td>2</td>\n",
       "      <td>3</td>\n",
       "      <td>boyfriend (with Social House)</td>\n",
       "      <td>Ariana Grande</td>\n",
       "      <td>dance pop</td>\n",
       "      <td>190</td>\n",
       "      <td>80</td>\n",
       "      <td>40</td>\n",
       "      <td>-4</td>\n",
       "      <td>16</td>\n",
       "      <td>70</td>\n",
       "      <td>186</td>\n",
       "      <td>12</td>\n",
       "      <td>46</td>\n",
       "      <td>85</td>\n",
       "      <td>3:06</td>\n",
       "    </tr>\n",
       "    <tr>\n",
       "      <td>3</td>\n",
       "      <td>4</td>\n",
       "      <td>Beautiful People (feat. Khalid)</td>\n",
       "      <td>Ed Sheeran</td>\n",
       "      <td>pop</td>\n",
       "      <td>93</td>\n",
       "      <td>65</td>\n",
       "      <td>64</td>\n",
       "      <td>-8</td>\n",
       "      <td>8</td>\n",
       "      <td>55</td>\n",
       "      <td>198</td>\n",
       "      <td>12</td>\n",
       "      <td>19</td>\n",
       "      <td>86</td>\n",
       "      <td>3:18</td>\n",
       "    </tr>\n",
       "    <tr>\n",
       "      <td>4</td>\n",
       "      <td>5</td>\n",
       "      <td>Goodbyes (Feat. Young Thug)</td>\n",
       "      <td>Post Malone</td>\n",
       "      <td>dfw rap</td>\n",
       "      <td>150</td>\n",
       "      <td>65</td>\n",
       "      <td>58</td>\n",
       "      <td>-4</td>\n",
       "      <td>11</td>\n",
       "      <td>18</td>\n",
       "      <td>175</td>\n",
       "      <td>45</td>\n",
       "      <td>7</td>\n",
       "      <td>94</td>\n",
       "      <td>2:55</td>\n",
       "    </tr>\n",
       "  </tbody>\n",
       "</table>\n",
       "</div>"
      ],
      "text/plain": [
       "   Unnamed: 0                       Track.Name    Artist.Name           Genre  \\\n",
       "0           1                         Señorita   Shawn Mendes    canadian pop   \n",
       "1           2                            China       Anuel AA  reggaeton flow   \n",
       "2           3    boyfriend (with Social House)  Ariana Grande       dance pop   \n",
       "3           4  Beautiful People (feat. Khalid)     Ed Sheeran             pop   \n",
       "4           5      Goodbyes (Feat. Young Thug)    Post Malone         dfw rap   \n",
       "\n",
       "   Beats.Per.Minute  Energy  Danceability  Loudness..dB..  Liveness  Valence.  \\\n",
       "0               117      55            76              -6         8        75   \n",
       "1               105      81            79              -4         8        61   \n",
       "2               190      80            40              -4        16        70   \n",
       "3                93      65            64              -8         8        55   \n",
       "4               150      65            58              -4        11        18   \n",
       "\n",
       "   Length.  Acousticness..  Speechiness.  Popularity Length.Pretty  \n",
       "0      191               4             3          79          3:11  \n",
       "1      302               8             9          92          5:02  \n",
       "2      186              12            46          85          3:06  \n",
       "3      198              12            19          86          3:18  \n",
       "4      175              45             7          94          2:55  "
      ]
     },
     "execution_count": 14,
     "metadata": {},
     "output_type": "execute_result"
    }
   ],
   "source": [
    "top.head()"
   ]
  },
  {
   "cell_type": "markdown",
   "metadata": {},
   "source": [
    "Galime naudoti **lambdas**:"
   ]
  },
  {
   "cell_type": "code",
   "execution_count": 16,
   "metadata": {},
   "outputs": [
    {
     "data": {
      "text/plain": [
       "0    6\n",
       "1    8\n",
       "2    8\n",
       "3    6\n",
       "4    6\n",
       "Name: Energy, dtype: int64"
      ]
     },
     "execution_count": 16,
     "metadata": {},
     "output_type": "execute_result"
    }
   ],
   "source": [
    "top['Energy'].apply(lambda x: round(x/10)).head()"
   ]
  },
  {
   "cell_type": "markdown",
   "metadata": {},
   "source": [
    "pavertėme 'Energy' stulpelio įvertinimus iš šimtabalės į dešimtbalę sistemą."
   ]
  },
  {
   "cell_type": "markdown",
   "metadata": {},
   "source": [
    "### Naudingos funkcijos"
   ]
  },
  {
   "cell_type": "markdown",
   "metadata": {},
   "source": [
    "**.columns** grąžina stulpelių sąrašą"
   ]
  },
  {
   "cell_type": "code",
   "execution_count": 18,
   "metadata": {},
   "outputs": [
    {
     "data": {
      "text/plain": [
       "Index(['Unnamed: 0', 'Track.Name', 'Artist.Name', 'Genre', 'Beats.Per.Minute',\n",
       "       'Energy', 'Danceability', 'Loudness..dB..', 'Liveness', 'Valence.',\n",
       "       'Length.', 'Acousticness..', 'Speechiness.', 'Popularity',\n",
       "       'Length.Pretty'],\n",
       "      dtype='object')"
      ]
     },
     "execution_count": 18,
     "metadata": {},
     "output_type": "execute_result"
    }
   ],
   "source": [
    "top.columns"
   ]
  },
  {
   "cell_type": "markdown",
   "metadata": {},
   "source": [
    "**.index** suteikia informaciją apie indeksą:"
   ]
  },
  {
   "cell_type": "code",
   "execution_count": 19,
   "metadata": {},
   "outputs": [
    {
     "data": {
      "text/plain": [
       "RangeIndex(start=0, stop=50, step=1)"
      ]
     },
     "execution_count": 19,
     "metadata": {},
     "output_type": "execute_result"
    }
   ],
   "source": [
    "top.index"
   ]
  },
  {
   "cell_type": "markdown",
   "metadata": {},
   "source": [
    "**.shape** grąžina *tuple* su eilučių ir stulpelių skaičiumi"
   ]
  },
  {
   "cell_type": "code",
   "execution_count": 20,
   "metadata": {},
   "outputs": [
    {
     "data": {
      "text/plain": [
       "(50, 15)"
      ]
     },
     "execution_count": 20,
     "metadata": {},
     "output_type": "execute_result"
    }
   ],
   "source": [
    "top.shape"
   ]
  },
  {
   "cell_type": "markdown",
   "metadata": {},
   "source": [
    "**.sort_values** surūšiuoja eilutes pagal nurodytą stulpelį:"
   ]
  },
  {
   "cell_type": "code",
   "execution_count": 22,
   "metadata": {},
   "outputs": [
    {
     "data": {
      "text/html": [
       "<div>\n",
       "<style scoped>\n",
       "    .dataframe tbody tr th:only-of-type {\n",
       "        vertical-align: middle;\n",
       "    }\n",
       "\n",
       "    .dataframe tbody tr th {\n",
       "        vertical-align: top;\n",
       "    }\n",
       "\n",
       "    .dataframe thead th {\n",
       "        text-align: right;\n",
       "    }\n",
       "</style>\n",
       "<table border=\"1\" class=\"dataframe\">\n",
       "  <thead>\n",
       "    <tr style=\"text-align: right;\">\n",
       "      <th></th>\n",
       "      <th>Unnamed: 0</th>\n",
       "      <th>Track.Name</th>\n",
       "      <th>Artist.Name</th>\n",
       "      <th>Genre</th>\n",
       "      <th>Beats.Per.Minute</th>\n",
       "      <th>Energy</th>\n",
       "      <th>Danceability</th>\n",
       "      <th>Loudness..dB..</th>\n",
       "      <th>Liveness</th>\n",
       "      <th>Valence.</th>\n",
       "      <th>Length.</th>\n",
       "      <th>Acousticness..</th>\n",
       "      <th>Speechiness.</th>\n",
       "      <th>Popularity</th>\n",
       "      <th>Length.Pretty</th>\n",
       "    </tr>\n",
       "  </thead>\n",
       "  <tbody>\n",
       "    <tr>\n",
       "      <td>32</td>\n",
       "      <td>33</td>\n",
       "      <td>0.958333333333333</td>\n",
       "      <td>Maluma</td>\n",
       "      <td>reggaeton</td>\n",
       "      <td>96</td>\n",
       "      <td>71</td>\n",
       "      <td>78</td>\n",
       "      <td>-5</td>\n",
       "      <td>9</td>\n",
       "      <td>68</td>\n",
       "      <td>176</td>\n",
       "      <td>22</td>\n",
       "      <td>28</td>\n",
       "      <td>89</td>\n",
       "      <td>2:56</td>\n",
       "    </tr>\n",
       "    <tr>\n",
       "      <td>31</td>\n",
       "      <td>32</td>\n",
       "      <td>7 rings</td>\n",
       "      <td>Ariana Grande</td>\n",
       "      <td>dance pop</td>\n",
       "      <td>140</td>\n",
       "      <td>32</td>\n",
       "      <td>78</td>\n",
       "      <td>-11</td>\n",
       "      <td>9</td>\n",
       "      <td>33</td>\n",
       "      <td>179</td>\n",
       "      <td>59</td>\n",
       "      <td>33</td>\n",
       "      <td>89</td>\n",
       "      <td>2:59</td>\n",
       "    </tr>\n",
       "    <tr>\n",
       "      <td>37</td>\n",
       "      <td>38</td>\n",
       "      <td>Antisocial (with Travis Scott)</td>\n",
       "      <td>Ed Sheeran</td>\n",
       "      <td>pop</td>\n",
       "      <td>152</td>\n",
       "      <td>82</td>\n",
       "      <td>72</td>\n",
       "      <td>-5</td>\n",
       "      <td>36</td>\n",
       "      <td>91</td>\n",
       "      <td>162</td>\n",
       "      <td>13</td>\n",
       "      <td>5</td>\n",
       "      <td>87</td>\n",
       "      <td>2:42</td>\n",
       "    </tr>\n",
       "    <tr>\n",
       "      <td>3</td>\n",
       "      <td>4</td>\n",
       "      <td>Beautiful People (feat. Khalid)</td>\n",
       "      <td>Ed Sheeran</td>\n",
       "      <td>pop</td>\n",
       "      <td>93</td>\n",
       "      <td>65</td>\n",
       "      <td>64</td>\n",
       "      <td>-8</td>\n",
       "      <td>8</td>\n",
       "      <td>55</td>\n",
       "      <td>198</td>\n",
       "      <td>12</td>\n",
       "      <td>19</td>\n",
       "      <td>86</td>\n",
       "      <td>3:18</td>\n",
       "    </tr>\n",
       "    <tr>\n",
       "      <td>48</td>\n",
       "      <td>49</td>\n",
       "      <td>Call You Mine</td>\n",
       "      <td>The Chainsmokers</td>\n",
       "      <td>edm</td>\n",
       "      <td>104</td>\n",
       "      <td>70</td>\n",
       "      <td>59</td>\n",
       "      <td>-6</td>\n",
       "      <td>41</td>\n",
       "      <td>50</td>\n",
       "      <td>218</td>\n",
       "      <td>23</td>\n",
       "      <td>3</td>\n",
       "      <td>88</td>\n",
       "      <td>3:38</td>\n",
       "    </tr>\n",
       "  </tbody>\n",
       "</table>\n",
       "</div>"
      ],
      "text/plain": [
       "    Unnamed: 0                       Track.Name       Artist.Name      Genre  \\\n",
       "32          33                0.958333333333333            Maluma  reggaeton   \n",
       "31          32                          7 rings     Ariana Grande  dance pop   \n",
       "37          38   Antisocial (with Travis Scott)        Ed Sheeran        pop   \n",
       "3            4  Beautiful People (feat. Khalid)        Ed Sheeran        pop   \n",
       "48          49                    Call You Mine  The Chainsmokers        edm   \n",
       "\n",
       "    Beats.Per.Minute  Energy  Danceability  Loudness..dB..  Liveness  \\\n",
       "32                96      71            78              -5         9   \n",
       "31               140      32            78             -11         9   \n",
       "37               152      82            72              -5        36   \n",
       "3                 93      65            64              -8         8   \n",
       "48               104      70            59              -6        41   \n",
       "\n",
       "    Valence.  Length.  Acousticness..  Speechiness.  Popularity Length.Pretty  \n",
       "32        68      176              22            28          89          2:56  \n",
       "31        33      179              59            33          89          2:59  \n",
       "37        91      162              13             5          87          2:42  \n",
       "3         55      198              12            19          86          3:18  \n",
       "48        50      218              23             3          88          3:38  "
      ]
     },
     "execution_count": 22,
     "metadata": {},
     "output_type": "execute_result"
    }
   ],
   "source": [
    "top.sort_values('Track.Name').head()"
   ]
  },
  {
   "cell_type": "markdown",
   "metadata": {},
   "source": [
    "**.isnull()** grąžina lentelę su boolean reikšmėmis kur True reiškia NaN. "
   ]
  },
  {
   "cell_type": "code",
   "execution_count": 24,
   "metadata": {},
   "outputs": [
    {
     "data": {
      "text/html": [
       "<div>\n",
       "<style scoped>\n",
       "    .dataframe tbody tr th:only-of-type {\n",
       "        vertical-align: middle;\n",
       "    }\n",
       "\n",
       "    .dataframe tbody tr th {\n",
       "        vertical-align: top;\n",
       "    }\n",
       "\n",
       "    .dataframe thead th {\n",
       "        text-align: right;\n",
       "    }\n",
       "</style>\n",
       "<table border=\"1\" class=\"dataframe\">\n",
       "  <thead>\n",
       "    <tr style=\"text-align: right;\">\n",
       "      <th></th>\n",
       "      <th>Unnamed: 0</th>\n",
       "      <th>Track.Name</th>\n",
       "      <th>Artist.Name</th>\n",
       "      <th>Genre</th>\n",
       "      <th>Beats.Per.Minute</th>\n",
       "      <th>Energy</th>\n",
       "      <th>Danceability</th>\n",
       "      <th>Loudness..dB..</th>\n",
       "      <th>Liveness</th>\n",
       "      <th>Valence.</th>\n",
       "      <th>Length.</th>\n",
       "      <th>Acousticness..</th>\n",
       "      <th>Speechiness.</th>\n",
       "      <th>Popularity</th>\n",
       "      <th>Length.Pretty</th>\n",
       "    </tr>\n",
       "  </thead>\n",
       "  <tbody>\n",
       "    <tr>\n",
       "      <td>0</td>\n",
       "      <td>False</td>\n",
       "      <td>False</td>\n",
       "      <td>False</td>\n",
       "      <td>False</td>\n",
       "      <td>False</td>\n",
       "      <td>False</td>\n",
       "      <td>False</td>\n",
       "      <td>False</td>\n",
       "      <td>False</td>\n",
       "      <td>False</td>\n",
       "      <td>False</td>\n",
       "      <td>False</td>\n",
       "      <td>False</td>\n",
       "      <td>False</td>\n",
       "      <td>False</td>\n",
       "    </tr>\n",
       "    <tr>\n",
       "      <td>1</td>\n",
       "      <td>False</td>\n",
       "      <td>False</td>\n",
       "      <td>False</td>\n",
       "      <td>False</td>\n",
       "      <td>False</td>\n",
       "      <td>False</td>\n",
       "      <td>False</td>\n",
       "      <td>False</td>\n",
       "      <td>False</td>\n",
       "      <td>False</td>\n",
       "      <td>False</td>\n",
       "      <td>False</td>\n",
       "      <td>False</td>\n",
       "      <td>False</td>\n",
       "      <td>False</td>\n",
       "    </tr>\n",
       "    <tr>\n",
       "      <td>2</td>\n",
       "      <td>False</td>\n",
       "      <td>False</td>\n",
       "      <td>False</td>\n",
       "      <td>False</td>\n",
       "      <td>False</td>\n",
       "      <td>False</td>\n",
       "      <td>False</td>\n",
       "      <td>False</td>\n",
       "      <td>False</td>\n",
       "      <td>False</td>\n",
       "      <td>False</td>\n",
       "      <td>False</td>\n",
       "      <td>False</td>\n",
       "      <td>False</td>\n",
       "      <td>False</td>\n",
       "    </tr>\n",
       "    <tr>\n",
       "      <td>3</td>\n",
       "      <td>False</td>\n",
       "      <td>False</td>\n",
       "      <td>False</td>\n",
       "      <td>False</td>\n",
       "      <td>False</td>\n",
       "      <td>False</td>\n",
       "      <td>False</td>\n",
       "      <td>False</td>\n",
       "      <td>False</td>\n",
       "      <td>False</td>\n",
       "      <td>False</td>\n",
       "      <td>False</td>\n",
       "      <td>False</td>\n",
       "      <td>False</td>\n",
       "      <td>False</td>\n",
       "    </tr>\n",
       "    <tr>\n",
       "      <td>4</td>\n",
       "      <td>False</td>\n",
       "      <td>False</td>\n",
       "      <td>False</td>\n",
       "      <td>False</td>\n",
       "      <td>False</td>\n",
       "      <td>False</td>\n",
       "      <td>False</td>\n",
       "      <td>False</td>\n",
       "      <td>False</td>\n",
       "      <td>False</td>\n",
       "      <td>False</td>\n",
       "      <td>False</td>\n",
       "      <td>False</td>\n",
       "      <td>False</td>\n",
       "      <td>False</td>\n",
       "    </tr>\n",
       "  </tbody>\n",
       "</table>\n",
       "</div>"
      ],
      "text/plain": [
       "   Unnamed: 0  Track.Name  Artist.Name  Genre  Beats.Per.Minute  Energy  \\\n",
       "0       False       False        False  False             False   False   \n",
       "1       False       False        False  False             False   False   \n",
       "2       False       False        False  False             False   False   \n",
       "3       False       False        False  False             False   False   \n",
       "4       False       False        False  False             False   False   \n",
       "\n",
       "   Danceability  Loudness..dB..  Liveness  Valence.  Length.  Acousticness..  \\\n",
       "0         False           False     False     False    False           False   \n",
       "1         False           False     False     False    False           False   \n",
       "2         False           False     False     False    False           False   \n",
       "3         False           False     False     False    False           False   \n",
       "4         False           False     False     False    False           False   \n",
       "\n",
       "   Speechiness.  Popularity  Length.Pretty  \n",
       "0         False       False          False  \n",
       "1         False       False          False  \n",
       "2         False       False          False  \n",
       "3         False       False          False  \n",
       "4         False       False          False  "
      ]
     },
     "execution_count": 24,
     "metadata": {},
     "output_type": "execute_result"
    }
   ],
   "source": [
    "top.isnull().head()"
   ]
  },
  {
   "cell_type": "markdown",
   "metadata": {},
   "source": [
    "ši lentelė tvarkinga, todėl True reikšmių nesimato :)"
   ]
  },
  {
   "cell_type": "code",
   "execution_count": null,
   "metadata": {},
   "outputs": [],
   "source": []
  }
 ],
 "metadata": {
  "kernelspec": {
   "display_name": "Python 3",
   "language": "python",
   "name": "python3"
  },
  "language_info": {
   "codemirror_mode": {
    "name": "ipython",
    "version": 3
   },
   "file_extension": ".py",
   "mimetype": "text/x-python",
   "name": "python",
   "nbconvert_exporter": "python",
   "pygments_lexer": "ipython3",
   "version": "3.7.3"
  }
 },
 "nbformat": 4,
 "nbformat_minor": 2
}
